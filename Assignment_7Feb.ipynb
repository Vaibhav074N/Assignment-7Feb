{
  "nbformat": 4,
  "nbformat_minor": 0,
  "metadata": {
    "colab": {
      "provenance": [],
      "authorship_tag": "ABX9TyMDL+faBxBM6Wrxyx3BZso1",
      "include_colab_link": true
    },
    "kernelspec": {
      "name": "python3",
      "display_name": "Python 3"
    },
    "language_info": {
      "name": "python"
    }
  },
  "cells": [
    {
      "cell_type": "markdown",
      "metadata": {
        "id": "view-in-github",
        "colab_type": "text"
      },
      "source": [
        "<a href=\"https://colab.research.google.com/github/Vaibhav074N/Assignment-7Feb/blob/main/Assignment_7Feb.ipynb\" target=\"_parent\"><img src=\"https://colab.research.google.com/assets/colab-badge.svg\" alt=\"Open In Colab\"/></a>"
      ]
    },
    {
      "cell_type": "markdown",
      "source": [
        "#####Q1."
      ],
      "metadata": {
        "id": "DTcWnEo1NHbb"
      }
    },
    {
      "cell_type": "code",
      "source": [
        "l,u,p,d=0,0,0,0\n",
        "# s='va@IB#$h1V'\n",
        "s=input(\"enter a password: \")\n",
        "capital_alph='ABCDEFGHIJKLMNOPQRSTUVWXYZ'\n",
        "small_alph='abcdefghijklmnopqrstuvwxyz'\n",
        "special_char='!@#$^&_*%'\n",
        "digits='0123456789'\n",
        "if len(s)>=10:\n",
        "    for i in s:\n",
        "        if i in small_alph:\n",
        "            l += 1\n",
        "        if i in capital_alph:\n",
        "            u += 1\n",
        "        if i in special_char:\n",
        "            p += 1\n",
        "        if i in digits:\n",
        "            d += 1\n",
        "if l>=2 and u>=2 and p>=3 and d>=1 and l+p+u+d==len(s):\n",
        "    print('Valid Password')\n",
        "else:\n",
        "    print('Invalid Password')"
      ],
      "metadata": {
        "colab": {
          "base_uri": "https://localhost:8080/"
        },
        "id": "8glpMY8xNKtJ",
        "outputId": "50ac7280-b579-4940-f636-3d3cc4f4427e"
      },
      "execution_count": 1,
      "outputs": [
        {
          "output_type": "stream",
          "name": "stdout",
          "text": [
            "enter a password: Va@iB#!3eA\n",
            "Valid Password\n"
          ]
        }
      ]
    },
    {
      "cell_type": "markdown",
      "source": [
        "######Q2."
      ],
      "metadata": {
        "id": "rBTtaOk6NlEH"
      }
    },
    {
      "cell_type": "code",
      "source": [
        "ss='vaibhav'\n",
        "print(list(map(lambda x:x.startswith('v'),ss)))"
      ],
      "metadata": {
        "colab": {
          "base_uri": "https://localhost:8080/"
        },
        "id": "MF97LLTPNnWm",
        "outputId": "9ae43b6c-00c5-439a-eec9-3c6167bd83a1"
      },
      "execution_count": 2,
      "outputs": [
        {
          "output_type": "stream",
          "name": "stdout",
          "text": [
            "[True, False, False, False, False, False, True]\n"
          ]
        }
      ]
    },
    {
      "cell_type": "code",
      "source": [
        "st=input(\"enter a string:\")\n",
        "s=st.isnumeric()\n",
        "if s==True:\n",
        "    print(\"String is numeric.\")\n",
        "else:\n",
        "    print('String is not numeric.')"
      ],
      "metadata": {
        "colab": {
          "base_uri": "https://localhost:8080/"
        },
        "id": "cS2S2V1WN4-3",
        "outputId": "a3e86828-21ae-4f8b-8b0d-18b0fab72a46"
      },
      "execution_count": 3,
      "outputs": [
        {
          "output_type": "stream",
          "name": "stdout",
          "text": [
            "enter a string:345\n",
            "String is numeric.\n"
          ]
        }
      ]
    },
    {
      "cell_type": "code",
      "source": [
        "\n",
        "#Sort by name\n",
        "l=[('mango',99),('orange',80),('grapes',1000)]\n",
        "for i in l:\n",
        "    l.sort()\n",
        "print(l)\n",
        "\n",
        "#Sort by number\n",
        "l=[('mango',99),('orange',80),('grapes',1000)]\n",
        "l_sort=sorted(l,key=lambda x:x[1])\n",
        "print(l_sort)"
      ],
      "metadata": {
        "colab": {
          "base_uri": "https://localhost:8080/"
        },
        "id": "zfKSnc5uOIaB",
        "outputId": "60cfa182-88cb-4ba9-cd84-40b4d21ce14d"
      },
      "execution_count": 6,
      "outputs": [
        {
          "output_type": "stream",
          "name": "stdout",
          "text": [
            "[('grapes', 1000), ('mango', 99), ('orange', 80)]\n",
            "[('orange', 80), ('mango', 99), ('grapes', 1000)]\n"
          ]
        }
      ]
    },
    {
      "cell_type": "code",
      "source": [
        "l=[1,2,3,4,5,6,7,8,9,10]\n",
        "print(list(map(lambda x: x**2,l)))"
      ],
      "metadata": {
        "colab": {
          "base_uri": "https://localhost:8080/"
        },
        "id": "SelAgbUIOe5o",
        "outputId": "633e973c-7226-47fe-f1ed-cd51ea01e375"
      },
      "execution_count": 9,
      "outputs": [
        {
          "output_type": "stream",
          "name": "stdout",
          "text": [
            "[1, 4, 9, 16, 25, 36, 49, 64, 81, 100]\n"
          ]
        }
      ]
    },
    {
      "cell_type": "code",
      "source": [
        "l=[1,2,3,4,5,6,7,8,9,10]\n",
        "print(list(map(lambda x: x**(1/3),l)))"
      ],
      "metadata": {
        "colab": {
          "base_uri": "https://localhost:8080/"
        },
        "id": "5M3lRbq0OyPo",
        "outputId": "35dab074-2103-46ce-e9b5-5a93cc630cde"
      },
      "execution_count": 10,
      "outputs": [
        {
          "output_type": "stream",
          "name": "stdout",
          "text": [
            "[1.0, 1.2599210498948732, 1.4422495703074083, 1.5874010519681994, 1.7099759466766968, 1.8171205928321397, 1.912931182772389, 2.0, 2.080083823051904, 2.154434690031884]\n"
          ]
        }
      ]
    },
    {
      "cell_type": "code",
      "source": [
        "a=[2,3,6,9,27,60,90,120,55,46]\n",
        "print(list(filter(lambda x: x%2==0 ,a)))"
      ],
      "metadata": {
        "colab": {
          "base_uri": "https://localhost:8080/"
        },
        "id": "WvzRa7esO7ef",
        "outputId": "21e7d6c5-38e8-4cf3-87b3-3e3f44e5f66d"
      },
      "execution_count": 11,
      "outputs": [
        {
          "output_type": "stream",
          "name": "stdout",
          "text": [
            "[2, 6, 60, 90, 120, 46]\n"
          ]
        }
      ]
    },
    {
      "cell_type": "code",
      "source": [
        "l=[1,2,3,4,5,6,7,8,9,10]\n",
        "print(list(filter(lambda x: x%3==0 ,l)))"
      ],
      "metadata": {
        "colab": {
          "base_uri": "https://localhost:8080/"
        },
        "id": "U--OhOnFPE1O",
        "outputId": "c70a9f9e-5421-4def-a6ba-c6daf82e8c9c"
      },
      "execution_count": 14,
      "outputs": [
        {
          "output_type": "stream",
          "name": "stdout",
          "text": [
            "[3, 6, 9]\n"
          ]
        }
      ]
    },
    {
      "cell_type": "code",
      "source": [
        "s=[1,2,3,4,5,6,-1,-2,-3,-4,-5,0]\n",
        "n=[]\n",
        "p=[]\n",
        "for i in s:\n",
        "    if i>=0:\n",
        "        p.append(i)\n",
        "    else:\n",
        "        n.append(i)\n",
        "print(n)\n",
        "print(p)"
      ],
      "metadata": {
        "colab": {
          "base_uri": "https://localhost:8080/"
        },
        "id": "DSzrl7cRPXhT",
        "outputId": "763f1ac6-027f-4a2c-ced8-9f4e2595d370"
      },
      "execution_count": 15,
      "outputs": [
        {
          "output_type": "stream",
          "name": "stdout",
          "text": [
            "[-1, -2, -3, -4, -5]\n",
            "[1, 2, 3, 4, 5, 6, 0]\n"
          ]
        }
      ]
    }
  ]
}